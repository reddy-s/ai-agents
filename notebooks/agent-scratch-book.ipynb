{
 "cells": [
  {
   "cell_type": "markdown",
   "source": [
    "# Agent Scratch Book"
   ],
   "metadata": {
    "collapsed": false
   },
   "id": "d19e80eb3e1af4dd"
  },
  {
   "cell_type": "code",
   "outputs": [
    {
     "data": {
      "text/plain": "device(type='mps')"
     },
     "execution_count": 1,
     "metadata": {},
     "output_type": "execute_result"
    }
   ],
   "source": [
    "import logging\n",
    "import os\n",
    "import torch\n",
    "\n",
    "from aicraft_agents.models import GPT, Llama3, Codellama\n",
    "\n",
    "\n",
    "logging.basicConfig(level=logging.INFO)\n",
    "logger = logging.getLogger(__name__)\n",
    "\n",
    "if torch.cuda.is_available():\n",
    "    device = torch.device(\"cuda\")\n",
    "elif torch.backends.mps.is_available():\n",
    "    device = torch.device(\"mps\")\n",
    "else:\n",
    "    device = torch.device(\"cpu\")\n",
    "device"
   ],
   "metadata": {
    "collapsed": false,
    "ExecuteTime": {
     "end_time": "2024-08-04T22:44:24.801756Z",
     "start_time": "2024-08-04T22:44:23.391922Z"
    }
   },
   "id": "7c0b86c74a21fa5e",
   "execution_count": 1
  },
  {
   "cell_type": "markdown",
   "source": [
    "## Initialise Models"
   ],
   "metadata": {
    "collapsed": false
   },
   "id": "2a059b041dc28e56"
  },
  {
   "cell_type": "code",
   "outputs": [
    {
     "data": {
      "text/plain": "Loading checkpoint shards:   0%|          | 0/2 [00:00<?, ?it/s]",
      "application/vnd.jupyter.widget-view+json": {
       "version_major": 2,
       "version_minor": 0,
       "model_id": "441819f68ccd4038b8530972f0766725"
      }
     },
     "metadata": {},
     "output_type": "display_data"
    }
   ],
   "source": [
    "# llama3 = Llama3()\n",
    "codellama = Codellama(device=device)\n",
    "gpt = GPT()"
   ],
   "metadata": {
    "collapsed": false,
    "ExecuteTime": {
     "end_time": "2024-08-04T22:44:34.802018Z",
     "start_time": "2024-08-04T22:44:24.802654Z"
    }
   },
   "id": "def5587ac23a24de",
   "execution_count": 2
  },
  {
   "cell_type": "code",
   "outputs": [],
   "source": [
    "SYSTEM_PROMPT = \"\"\"\n",
    "Instruction:\n",
    "You are postgres database developer who is instructed to write SQL queries to fetch data from the database. Your SQL is required to be efficient and not contain any syntax errors. Here are the DDLs for the database:\n",
    "\n",
    "Metadata and DDLs:\n",
    "\n",
    "Metadata about the table \"behaviour.interest\":\n",
    "Consumer interests represented in fantastic_insights_dataset table  Dataset consists of 30,000+ user reviews from ~1000 audience panel members  Audience panel members are located in the United States and represent all major U.S. regions and demographics. The most represented demographics in the dataset are 18-35 males and 18-35 females in Southern California.  Each dataset row is a positive review of a product/service/content from users on our platform.';\n",
    "comment on column behaviour.interest.gender is 'User gender: Male | Female | Non-Binary';\n",
    "comment on column behaviour.interest.age_range is 'User age range: 13-17 | 18-24 | 25-34 | 35-44 | 45-54 | 55-64 |65+\n",
    "\n",
    "DDL:\n",
    "create table behaviour.interest (\n",
    "  gender text, -- User gender: Male | Female | Non-Binary\n",
    "  age_range text, -- User age range: 13-17 | 18-24 | 25-34 | 35-44 | 45-54 | 55-64 |65+ \n",
    "  city_name text, -- User city\n",
    "  state_name text, -- User state\n",
    "  country_name text, -- User country\n",
    "  user_count integer, -- Number of users that endorse the review, for multiple endorsers\n",
    "  subject text, -- Product, service, or content endorsed\n",
    "  description text, -- Description of product, service, or content\n",
    "  link text, -- Link to product, service, or content\n",
    "  image_link text, -- Link to image of product, service, or content\n",
    "  tag_1 text, -- User provided category for product, service or content\n",
    "  tag_2 text, -- User provided category for product, service or content\n",
    "  tag_3 text, -- User provided category for product, service or content\n",
    "  tag_4 text, -- User provided category for product, service or content\n",
    "  tag_5 text, -- User provided category for product, service or content\n",
    "  tag_6 text, -- User provided category for product, service or content\n",
    "  tag_7 text, -- User provided category for product, service or content\n",
    "  tag_8 text, -- User provided category for product, service or content\n",
    "  tag_9 text, -- User provided category for product, service or content\n",
    "  tag_10 text -- User provided category for product, service or content\n",
    ");\n",
    "\n",
    "Strictly respond back only with the a SQL and not contain any syntax errors. \n",
    "\"\"\"\n",
    "\n",
    "messages = [\n",
    "    {\"role\": \"system\", \"content\": SYSTEM_PROMPT},\n",
    "    {\"role\": \"user\", \"content\": \"Respond back with SQL only: which age group have provided the highest number of endorsements?\"},\n",
    "]"
   ],
   "metadata": {
    "collapsed": false,
    "ExecuteTime": {
     "end_time": "2024-08-04T22:44:34.805702Z",
     "start_time": "2024-08-04T22:44:34.803260Z"
    }
   },
   "id": "96d76c10208d1457",
   "execution_count": 3
  },
  {
   "cell_type": "code",
   "outputs": [],
   "source": [
    "# %%time\n",
    "# response = llama3.generate(messages, temperature=0.9)\n",
    "# logger.info(f'\\n{response[\"content\"]}')"
   ],
   "metadata": {
    "collapsed": false,
    "ExecuteTime": {
     "end_time": "2024-08-04T22:44:34.808099Z",
     "start_time": "2024-08-04T22:44:34.806446Z"
    }
   },
   "id": "1e911166bbbf550e",
   "execution_count": 4
  },
  {
   "cell_type": "code",
   "outputs": [
    {
     "name": "stderr",
     "output_type": "stream",
     "text": [
      "INFO:httpx:HTTP Request: POST https://api.openai.com/v1/chat/completions \"HTTP/1.1 200 OK\"\n",
      "INFO:__main__:\n",
      "```sql\n",
      "SELECT age_range, SUM(user_count) AS total_endorsements\n",
      "FROM behaviour.interest\n",
      "GROUP BY age_range\n",
      "ORDER BY total_endorsements DESC\n",
      "LIMIT 1;\n",
      "```\n"
     ]
    },
    {
     "name": "stdout",
     "output_type": "stream",
     "text": [
      "CPU times: user 16.9 ms, sys: 180 ms, total: 197 ms\n",
      "Wall time: 1.48 s\n"
     ]
    }
   ],
   "source": [
    "%%time\n",
    "response = gpt.generate(messages, temperature=0.9)\n",
    "logger.info(f'\\n{response[\"content\"]}')"
   ],
   "metadata": {
    "collapsed": false,
    "ExecuteTime": {
     "end_time": "2024-08-04T22:44:47.328162Z",
     "start_time": "2024-08-04T22:44:45.848548Z"
    }
   },
   "id": "c8ee17a0d3cc1f86",
   "execution_count": 5
  },
  {
   "cell_type": "code",
   "outputs": [
    {
     "name": "stderr",
     "output_type": "stream",
     "text": [
      "INFO:__main__:\n",
      " SELECT age_range, COUNT(*) as num_endorsements\n",
      "FROM behaviour.interest\n",
      "GROUP BY age_range\n",
      "ORDER BY num_endorsements DESC\n",
      "LIMIT 1;\n"
     ]
    },
    {
     "name": "stdout",
     "output_type": "stream",
     "text": [
      "CPU times: user 3.72 s, sys: 24.9 s, total: 28.6 s\n",
      "Wall time: 39 s\n"
     ]
    }
   ],
   "source": [
    "%%time\n",
    "response = codellama.generate(messages, temperature=0.9)\n",
    "logger.info(f'\\n{response[\"content\"]}')"
   ],
   "metadata": {
    "collapsed": false,
    "ExecuteTime": {
     "end_time": "2024-08-04T22:45:28.235814Z",
     "start_time": "2024-08-04T22:44:49.206488Z"
    }
   },
   "id": "3e4e6f067f3bdcfb",
   "execution_count": 6
  },
  {
   "cell_type": "code",
   "outputs": [],
   "source": [],
   "metadata": {
    "collapsed": false
   },
   "id": "bbe8c5b43120c5c7"
  }
 ],
 "metadata": {
  "kernelspec": {
   "display_name": "Python 3",
   "language": "python",
   "name": "python3"
  },
  "language_info": {
   "codemirror_mode": {
    "name": "ipython",
    "version": 2
   },
   "file_extension": ".py",
   "mimetype": "text/x-python",
   "name": "python",
   "nbconvert_exporter": "python",
   "pygments_lexer": "ipython2",
   "version": "2.7.6"
  }
 },
 "nbformat": 4,
 "nbformat_minor": 5
}
