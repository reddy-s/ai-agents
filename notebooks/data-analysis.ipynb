{
 "cells": [
  {
   "cell_type": "code",
   "execution_count": 22,
   "id": "initial_id",
   "metadata": {
    "collapsed": true,
    "ExecuteTime": {
     "end_time": "2024-08-17T13:51:31.824292Z",
     "start_time": "2024-08-17T13:51:31.817844Z"
    }
   },
   "outputs": [
    {
     "data": {
      "text/plain": "device(type='mps')"
     },
     "execution_count": 22,
     "metadata": {},
     "output_type": "execute_result"
    }
   ],
   "source": [
    "import logging\n",
    "import torch\n",
    "from dotenv import load_dotenv\n",
    "\n",
    "from aicraft.models import Functionary\n",
    "from aicraft.types import VisualisationType\n",
    "from aicraft.tools.executor import SQLExecutor\n",
    "from aicraft.tools.tools import ToolHandler\n",
    "import pandas as pd\n",
    "import json\n",
    "import numpy as np\n",
    "\n",
    "\n",
    "load_dotenv()\n",
    "\n",
    "logging.basicConfig(level=logging.INFO)\n",
    "\n",
    "\n",
    "logger = logging.getLogger(__name__)\n",
    "\n",
    "if torch.cuda.is_available():\n",
    "    device = torch.device(\"cuda\")\n",
    "elif torch.backends.mps.is_available():\n",
    "    device = torch.device(\"mps\")\n",
    "else:\n",
    "    device = torch.device(\"cpu\")\n",
    "device"
   ]
  },
  {
   "cell_type": "markdown",
   "source": [
    "## Testing the model"
   ],
   "metadata": {
    "collapsed": false
   },
   "id": "b8bbe66f95460f4"
  },
  {
   "cell_type": "code",
   "outputs": [],
   "source": [
    "def user_detail(name: str, age: int):\n",
    "    \"\"\"\n",
    "    Creates user details\n",
    "    \"\"\"\n",
    "    return {\n",
    "        \"name\": name,\n",
    "        \"age\": age\n",
    "    }\n",
    "\n",
    "def item_detail(name: str, price: float):\n",
    "    \"\"\"\n",
    "    Creates item details\n",
    "    \"\"\"\n",
    "    return {\n",
    "        \"name\": name,\n",
    "        \"price\": price\n",
    "    }\n",
    "\n",
    "\n",
    "def get_hotness_score_for_counties_in_a_state(state_id: str, yyyymm: int) -> tuple[pd.DataFrame, str, VisualisationType]:\n",
    "    \"\"\"Helps in getting the hotness score for counties in a state which can help with understanding which counties to live in. It takes the 2 character state_id (eg: NJ, OH) and the yyyymm (eg: 202208, 202406) as input and returns the dataframe of the top hotness scores for among all  the counties in that state and the visualisation type\"\"\"\n",
    "    query = f\"\"\"\n",
    "        SELECT\n",
    "            county_name AS \"County\",\n",
    "            hotness_score AS \"Hotness\"\n",
    "        FROM hobu.county_market_hotness\n",
    "        WHERE state_id = '{state_id}' AND\n",
    "              yyyymm = {yyyymm}\n",
    "        ORDER BY hotness_score DESC;\n",
    "    \"\"\"\n",
    "    df = SQLExecutor.execute(query)\n",
    "    return df.set_index(\"County\"), f\"Hotness Scores per county in {state_id} for {yyyymm}\", VisualisationType.BAR\n",
    "\n",
    "class TestTools(ToolHandler):\n",
    "    def __init__(self):\n",
    "        super().__init__(\n",
    "            {\n",
    "                \"user_detail\": user_detail,\n",
    "                \"item_detail\": item_detail,\n",
    "                \"get_hotness_score_for_counties_in_a_state\": get_hotness_score_for_counties_in_a_state\n",
    "            }\n",
    "        )"
   ],
   "metadata": {
    "collapsed": false,
    "ExecuteTime": {
     "end_time": "2024-08-17T13:51:13.812937Z",
     "start_time": "2024-08-17T13:51:13.809972Z"
    }
   },
   "id": "d73f8ca7e88c97af",
   "execution_count": 16
  },
  {
   "cell_type": "code",
   "outputs": [
    {
     "data": {
      "text/plain": "[{'type': 'function',\n  'function': {'name': 'user_detail',\n   'description': 'Creates user details',\n   'parameters': {'type': 'object',\n    'title': 'user_detail',\n    'properties': {'name': {'title': 'Name', 'type': 'string'},\n     'age': {'title': 'Age', 'type': 'integer'}},\n    'required': ['name', 'age']}}},\n {'type': 'function',\n  'function': {'name': 'item_detail',\n   'description': 'Creates item details',\n   'parameters': {'type': 'object',\n    'title': 'item_detail',\n    'properties': {'name': {'title': 'Name', 'type': 'string'},\n     'price': {'title': 'Price', 'type': 'number'}},\n    'required': ['name', 'price']}}},\n {'type': 'function',\n  'function': {'name': 'get_hotness_score_for_counties_in_a_state',\n   'description': 'Helps in getting the hotness score for counties in a state which can help with understanding which counties to live in. It takes the 2 character state_id (eg: NJ, OH) and the yyyymm (eg: 202208, 202406) as input and returns the dataframe of the top hotness scores for among all  the counties in that state and the visualisation type',\n   'parameters': {'type': 'object',\n    'title': 'get_hotness_score_for_counties_in_a_state',\n    'properties': {'state_id': {'title': 'State_id', 'type': 'string'},\n     'yyyymm': {'title': 'Yyyymm', 'type': 'integer'}},\n    'required': ['state_id', 'yyyymm']}}}]"
     },
     "execution_count": 17,
     "metadata": {},
     "output_type": "execute_result"
    }
   ],
   "source": [
    "functionary = Functionary()\n",
    "tools = TestTools()\n",
    "tools.get_tools()"
   ],
   "metadata": {
    "collapsed": false,
    "ExecuteTime": {
     "end_time": "2024-08-17T13:51:14.613456Z",
     "start_time": "2024-08-17T13:51:14.238554Z"
    }
   },
   "id": "66b773d740fc7681",
   "execution_count": 17
  },
  {
   "cell_type": "code",
   "outputs": [
    {
     "name": "stderr",
     "output_type": "stream",
     "text": [
      "/opt/homebrew/anaconda3/envs/ai-agents/lib/python3.11/site-packages/llama_cpp/llama.py:1129: RuntimeWarning: Detected duplicate leading \"<s>\" in prompt, this will likely reduce response quality, consider removing it...\n",
      "  warnings.warn(\n"
     ]
    },
    {
     "data": {
      "text/plain": "{'name': 'Jason', 'age': 25}"
     },
     "execution_count": 18,
     "metadata": {},
     "output_type": "execute_result"
    }
   ],
   "source": [
    "response = functionary.model.create_chat_completion(\n",
    "  messages = [\n",
    "    {\n",
    "      \"role\": \"system\",\n",
    "      \"content\": \"A chat between a curious user and an artificial intelligence assistant. The assistant gives helpful, detailed, and polite answers to the user's questions. The assistant calls functions with appropriate input when necessary\"\n",
    "\n",
    "    },\n",
    "    {\n",
    "      \"role\": \"user\",\n",
    "      \"content\": \"Extract Jason is 25 years old\"\n",
    "    }\n",
    "  ],\n",
    "  tools=tools.get_tools(),\n",
    "  tool_choice=\"auto\"\n",
    ")\n",
    "\n",
    "func_name = response[\"choices\"][0][\"message\"][\"tool_calls\"][0][\"function\"][\"name\"]\n",
    "kwargs = json.loads(response[\"choices\"][0][\"message\"][\"tool_calls\"][0][\"function\"][\"arguments\"])\n",
    "result = tools.execute_tool(func_name, **kwargs)\n",
    "result"
   ],
   "metadata": {
    "collapsed": false,
    "ExecuteTime": {
     "end_time": "2024-08-17T13:51:16.566611Z",
     "start_time": "2024-08-17T13:51:14.633700Z"
    }
   },
   "id": "4e325fdbd26d4e74",
   "execution_count": 18
  },
  {
   "cell_type": "code",
   "outputs": [
    {
     "data": {
      "text/plain": "{'name': 'Biryani', 'price': 20.13}"
     },
     "execution_count": 19,
     "metadata": {},
     "output_type": "execute_result"
    }
   ],
   "source": [
    "response = functionary.model.create_chat_completion(\n",
    "  messages = [\n",
    "    {\n",
    "      \"role\": \"system\",\n",
    "      \"content\": \"A chat between a curious user and an artificial intelligence assistant. The assistant gives helpful, detailed, and polite answers to the user's questions. The assistant calls functions with appropriate input when necessary\"\n",
    "\n",
    "    },\n",
    "    {\n",
    "      \"role\": \"user\",\n",
    "      \"content\": \"Biryani costs $20.13\"\n",
    "    }\n",
    "  ],\n",
    "  tools=tools.get_tools(),\n",
    "  tool_choice=\"auto\"\n",
    ")\n",
    "\n",
    "func_name = response[\"choices\"][0][\"message\"][\"tool_calls\"][0][\"function\"][\"name\"]\n",
    "kwargs = json.loads(response[\"choices\"][0][\"message\"][\"tool_calls\"][0][\"function\"][\"arguments\"])\n",
    "result = tools.execute_tool(func_name, **kwargs)\n",
    "result"
   ],
   "metadata": {
    "collapsed": false,
    "ExecuteTime": {
     "end_time": "2024-08-17T13:51:17.682897Z",
     "start_time": "2024-08-17T13:51:16.567662Z"
    }
   },
   "id": "18da4bcd492f4222",
   "execution_count": 19
  },
  {
   "cell_type": "code",
   "outputs": [
    {
     "name": "stderr",
     "output_type": "stream",
     "text": [
      "/Users/sangramreddy/Documents/dev/pocs/ai-agents/aicraft/tools/executor.py:27: UserWarning: pandas only supports SQLAlchemy connectable (engine/connection) or database string URI or sqlite3 DBAPI2 connection. Other DBAPI2 objects are not tested. Please consider using SQLAlchemy.\n",
      "  df = pd.read_sql_query(sql, connection)\n"
     ]
    },
    {
     "data": {
      "text/plain": "            County    Hotness\n0       morris, nj  94.389027\n1   gloucester, nj  93.734414\n2   burlington, nj  92.269327\n3     somerset, nj  89.650873\n4       camden, nj  89.245636\n5      passaic, nj  87.157107\n6     monmouth, nj  84.071072\n7        union, nj  84.008728\n8    middlesex, nj  82.793017\n9       warren, nj  82.107232\n10   hunterdon, nj  80.330424\n11      mercer, nj  80.018703\n12      sussex, nj  76.776808\n13       essex, nj  75.218204\n14      bergen, nj  74.501247\n15       ocean, nj  74.376559\n16  cumberland, nj  66.801746\n17       salem, nj  65.056110\n18    cape may, nj  59.320449\n19    atlantic, nj  58.821696\n20      hudson, nj  37.593516",
      "text/html": "<div>\n<style scoped>\n    .dataframe tbody tr th:only-of-type {\n        vertical-align: middle;\n    }\n\n    .dataframe tbody tr th {\n        vertical-align: top;\n    }\n\n    .dataframe thead th {\n        text-align: right;\n    }\n</style>\n<table border=\"1\" class=\"dataframe\">\n  <thead>\n    <tr style=\"text-align: right;\">\n      <th></th>\n      <th>County</th>\n      <th>Hotness</th>\n    </tr>\n  </thead>\n  <tbody>\n    <tr>\n      <th>0</th>\n      <td>morris, nj</td>\n      <td>94.389027</td>\n    </tr>\n    <tr>\n      <th>1</th>\n      <td>gloucester, nj</td>\n      <td>93.734414</td>\n    </tr>\n    <tr>\n      <th>2</th>\n      <td>burlington, nj</td>\n      <td>92.269327</td>\n    </tr>\n    <tr>\n      <th>3</th>\n      <td>somerset, nj</td>\n      <td>89.650873</td>\n    </tr>\n    <tr>\n      <th>4</th>\n      <td>camden, nj</td>\n      <td>89.245636</td>\n    </tr>\n    <tr>\n      <th>5</th>\n      <td>passaic, nj</td>\n      <td>87.157107</td>\n    </tr>\n    <tr>\n      <th>6</th>\n      <td>monmouth, nj</td>\n      <td>84.071072</td>\n    </tr>\n    <tr>\n      <th>7</th>\n      <td>union, nj</td>\n      <td>84.008728</td>\n    </tr>\n    <tr>\n      <th>8</th>\n      <td>middlesex, nj</td>\n      <td>82.793017</td>\n    </tr>\n    <tr>\n      <th>9</th>\n      <td>warren, nj</td>\n      <td>82.107232</td>\n    </tr>\n    <tr>\n      <th>10</th>\n      <td>hunterdon, nj</td>\n      <td>80.330424</td>\n    </tr>\n    <tr>\n      <th>11</th>\n      <td>mercer, nj</td>\n      <td>80.018703</td>\n    </tr>\n    <tr>\n      <th>12</th>\n      <td>sussex, nj</td>\n      <td>76.776808</td>\n    </tr>\n    <tr>\n      <th>13</th>\n      <td>essex, nj</td>\n      <td>75.218204</td>\n    </tr>\n    <tr>\n      <th>14</th>\n      <td>bergen, nj</td>\n      <td>74.501247</td>\n    </tr>\n    <tr>\n      <th>15</th>\n      <td>ocean, nj</td>\n      <td>74.376559</td>\n    </tr>\n    <tr>\n      <th>16</th>\n      <td>cumberland, nj</td>\n      <td>66.801746</td>\n    </tr>\n    <tr>\n      <th>17</th>\n      <td>salem, nj</td>\n      <td>65.056110</td>\n    </tr>\n    <tr>\n      <th>18</th>\n      <td>cape may, nj</td>\n      <td>59.320449</td>\n    </tr>\n    <tr>\n      <th>19</th>\n      <td>atlantic, nj</td>\n      <td>58.821696</td>\n    </tr>\n    <tr>\n      <th>20</th>\n      <td>hudson, nj</td>\n      <td>37.593516</td>\n    </tr>\n  </tbody>\n</table>\n</div>"
     },
     "execution_count": 20,
     "metadata": {},
     "output_type": "execute_result"
    }
   ],
   "source": [
    "response = functionary.model.create_chat_completion(\n",
    "  messages = [\n",
    "    {\n",
    "      \"role\": \"system\",\n",
    "      \"content\": \"A chat between a curious user and an artificial intelligence assistant. The assistant gives helpful, detailed, and polite answers to the user's questions. The assistant calls functions with appropriate input when necessary\"\n",
    "    },\n",
    "    {\n",
    "      \"role\": \"user\",\n",
    "      \"content\": \"New Jersey is a good place to consider living in as it has a lot of great localities. Time period: 202407\"\n",
    "    }\n",
    "  ],\n",
    "  tools=tools.get_tools(),\n",
    "  tool_choice=\"auto\"\n",
    ")\n",
    "\n",
    "func_name = response[\"choices\"][0][\"message\"][\"tool_calls\"][0][\"function\"][\"name\"]\n",
    "kwargs = json.loads(response[\"choices\"][0][\"message\"][\"tool_calls\"][0][\"function\"][\"arguments\"])\n",
    "result = tools.execute_tool(func_name, **kwargs)\n",
    "result[0]"
   ],
   "metadata": {
    "collapsed": false,
    "ExecuteTime": {
     "end_time": "2024-08-17T13:51:21.051454Z",
     "start_time": "2024-08-17T13:51:17.683907Z"
    }
   },
   "id": "3448625ab5941fdc",
   "execution_count": 20
  },
  {
   "cell_type": "code",
   "outputs": [
    {
     "data": {
      "text/plain": "           a         b         c\n0   0.268141 -1.637154  0.917924\n1   0.718016 -0.848007  0.569307\n2  -1.821980  0.574672 -1.653319\n3  -1.586913  1.071389 -2.460579\n4  -0.753374  0.089203 -1.048517\n5  -0.748945  0.406198 -2.352635\n6  -0.213915 -1.427047 -1.049536\n7   1.599471 -0.009400 -0.432406\n8  -1.003764 -1.359201 -1.201201\n9  -0.613224  0.939954 -0.594843\n10 -0.802693  2.012539  2.046903\n11  0.430770 -0.166341 -0.778205\n12 -0.087104  1.273367  0.179261\n13  0.201314 -0.124601  0.038535\n14 -0.288953 -1.748341  0.529229\n15 -0.390266  0.525915  0.469035\n16 -0.109439  0.646380 -0.790800\n17 -0.149543  1.159772  0.349254\n18 -0.819315 -1.679463 -0.613118\n19  0.839742 -0.073704 -0.746450",
      "text/html": "<div>\n<style scoped>\n    .dataframe tbody tr th:only-of-type {\n        vertical-align: middle;\n    }\n\n    .dataframe tbody tr th {\n        vertical-align: top;\n    }\n\n    .dataframe thead th {\n        text-align: right;\n    }\n</style>\n<table border=\"1\" class=\"dataframe\">\n  <thead>\n    <tr style=\"text-align: right;\">\n      <th></th>\n      <th>a</th>\n      <th>b</th>\n      <th>c</th>\n    </tr>\n  </thead>\n  <tbody>\n    <tr>\n      <th>0</th>\n      <td>0.268141</td>\n      <td>-1.637154</td>\n      <td>0.917924</td>\n    </tr>\n    <tr>\n      <th>1</th>\n      <td>0.718016</td>\n      <td>-0.848007</td>\n      <td>0.569307</td>\n    </tr>\n    <tr>\n      <th>2</th>\n      <td>-1.821980</td>\n      <td>0.574672</td>\n      <td>-1.653319</td>\n    </tr>\n    <tr>\n      <th>3</th>\n      <td>-1.586913</td>\n      <td>1.071389</td>\n      <td>-2.460579</td>\n    </tr>\n    <tr>\n      <th>4</th>\n      <td>-0.753374</td>\n      <td>0.089203</td>\n      <td>-1.048517</td>\n    </tr>\n    <tr>\n      <th>5</th>\n      <td>-0.748945</td>\n      <td>0.406198</td>\n      <td>-2.352635</td>\n    </tr>\n    <tr>\n      <th>6</th>\n      <td>-0.213915</td>\n      <td>-1.427047</td>\n      <td>-1.049536</td>\n    </tr>\n    <tr>\n      <th>7</th>\n      <td>1.599471</td>\n      <td>-0.009400</td>\n      <td>-0.432406</td>\n    </tr>\n    <tr>\n      <th>8</th>\n      <td>-1.003764</td>\n      <td>-1.359201</td>\n      <td>-1.201201</td>\n    </tr>\n    <tr>\n      <th>9</th>\n      <td>-0.613224</td>\n      <td>0.939954</td>\n      <td>-0.594843</td>\n    </tr>\n    <tr>\n      <th>10</th>\n      <td>-0.802693</td>\n      <td>2.012539</td>\n      <td>2.046903</td>\n    </tr>\n    <tr>\n      <th>11</th>\n      <td>0.430770</td>\n      <td>-0.166341</td>\n      <td>-0.778205</td>\n    </tr>\n    <tr>\n      <th>12</th>\n      <td>-0.087104</td>\n      <td>1.273367</td>\n      <td>0.179261</td>\n    </tr>\n    <tr>\n      <th>13</th>\n      <td>0.201314</td>\n      <td>-0.124601</td>\n      <td>0.038535</td>\n    </tr>\n    <tr>\n      <th>14</th>\n      <td>-0.288953</td>\n      <td>-1.748341</td>\n      <td>0.529229</td>\n    </tr>\n    <tr>\n      <th>15</th>\n      <td>-0.390266</td>\n      <td>0.525915</td>\n      <td>0.469035</td>\n    </tr>\n    <tr>\n      <th>16</th>\n      <td>-0.109439</td>\n      <td>0.646380</td>\n      <td>-0.790800</td>\n    </tr>\n    <tr>\n      <th>17</th>\n      <td>-0.149543</td>\n      <td>1.159772</td>\n      <td>0.349254</td>\n    </tr>\n    <tr>\n      <th>18</th>\n      <td>-0.819315</td>\n      <td>-1.679463</td>\n      <td>-0.613118</td>\n    </tr>\n    <tr>\n      <th>19</th>\n      <td>0.839742</td>\n      <td>-0.073704</td>\n      <td>-0.746450</td>\n    </tr>\n  </tbody>\n</table>\n</div>"
     },
     "execution_count": 23,
     "metadata": {},
     "output_type": "execute_result"
    }
   ],
   "source": [
    "chart_data = pd.DataFrame(np.random.randn(20, 3), columns=[\"a\", \"b\", \"c\"])\n",
    "chart_data"
   ],
   "metadata": {
    "collapsed": false,
    "ExecuteTime": {
     "end_time": "2024-08-17T13:51:37.611099Z",
     "start_time": "2024-08-17T13:51:37.605862Z"
    }
   },
   "id": "eecb26355fcecd85",
   "execution_count": 23
  },
  {
   "cell_type": "code",
   "outputs": [],
   "source": [],
   "metadata": {
    "collapsed": false
   },
   "id": "f565eb1fc785f199"
  }
 ],
 "metadata": {
  "kernelspec": {
   "display_name": "Python 3",
   "language": "python",
   "name": "python3"
  },
  "language_info": {
   "codemirror_mode": {
    "name": "ipython",
    "version": 2
   },
   "file_extension": ".py",
   "mimetype": "text/x-python",
   "name": "python",
   "nbconvert_exporter": "python",
   "pygments_lexer": "ipython2",
   "version": "2.7.6"
  }
 },
 "nbformat": 4,
 "nbformat_minor": 5
}
