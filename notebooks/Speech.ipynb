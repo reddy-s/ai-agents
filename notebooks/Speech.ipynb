{
 "cells": [
  {
   "cell_type": "code",
   "execution_count": 1,
   "id": "initial_id",
   "metadata": {
    "collapsed": true,
    "ExecuteTime": {
     "end_time": "2024-08-11T21:15:20.249392Z",
     "start_time": "2024-08-11T21:15:18.581787Z"
    }
   },
   "outputs": [
    {
     "name": "stderr",
     "output_type": "stream",
     "text": [
      "Flash attention 2 is not installed\n"
     ]
    }
   ],
   "source": [
    "import torch\n",
    "from parler_tts import ParlerTTSForConditionalGeneration\n",
    "from transformers import AutoTokenizer\n",
    "import soundfile as sf\n",
    "from IPython.display import Audio\n",
    "import pdfplumber"
   ]
  },
  {
   "cell_type": "code",
   "outputs": [
    {
     "name": "stdout",
     "output_type": "stream",
     "text": [
      "Full report\n",
      "Intent HQ Technical Health Check\n",
      "Prepared by Squirrel Squared Limited for IntentHQ\n",
      "11 April 2024\n",
      "Executive Summary\n",
      "We (Douglas Squirrel and Andy Parker) were pleased to undertake a technical health check for IntentHQ, a company\n",
      "providing analytics and intelligence services for companies with behavioural data on their customers. We spentSure, I\n",
      "can help you turn your content into multiple pages and tables. Could you please provide me with the content you would\n",
      "like to split? several partial days working with IntentHQ remotely (6, 15, 21, 27, 28 March, and 8 April 2024) and reviewed\n",
      "a large number of documents provided by the company.\n",
      "Our evaluation focussed on these key areas of investigation identified by IntentHQ:\n",
      "1. What characteristics and skills should the next exec leader for the tech team have? Decisive with strong skills at\n",
      "accounting for decisions taken. Deep experience in technical leadership (any industry, any role). Highly skilled at\n",
      "influencing other senior leaders, creating productive conflict in the executive team, and coaching others on\n",
      "transparency, accountability, and decision making. See Spans of Control, Management Skills, and Product Direction\n",
      "and Opportunities.\n",
      "2. What changes would help ensure the tech organisation is fit for the future and fits well with larger org changes,\n",
      "including Israel integration, number of engineers, and data-science integration? Organise around cross-functional\n",
      "teams for IntentHQʼs major products and their more complicated components. Accelerate Israel product integration\n",
      "without changing its cross-functional nature. Merge duplicate organisations instead of growing headcount.\n",
      "Strengthen product-management independence and direction. See Team Composition, Structure, and Skills.\n",
      "3. Is the product team functioning effectively? No. What if any changes to team, skills, structure, or process would\n",
      "improve their performance? Work closer to the teams building the products, but with experienced leadership that\n",
      "asks (and coaches) them to deeply understand customers (the incoming Head of Product looks promising for this).\n",
      "The current team appears to be left on the sidelines while others make choices for them. Continue to use the Shape\n",
      "Up process for introducing work and focus much more on client outcomes. See Spans of Control, Management\n",
      "Skills, and Development Methodology below. Further, consider a change in product direction: focussing less on\n",
      "marketing software products and shifting to professional services supported by in-house products. See Product\n",
      "Direction and Opportunities.\n",
      "4. Are quality assurance and data science functions well organised and staffed, and using suitable processes and tools?\n",
      "No. How could each improve further? The QA and Data Science teams should continue to build data quality checks\n"
     ]
    }
   ],
   "source": [
    "with pdfplumber.open(\"full_report.pdf\") as pdf:\n",
    "    first_page = pdf.pages[0]\n",
    "    text = first_page.extract_text()\n",
    "    print(text)"
   ],
   "metadata": {
    "collapsed": false,
    "ExecuteTime": {
     "end_time": "2024-08-11T21:15:20.344969Z",
     "start_time": "2024-08-11T21:15:20.250530Z"
    }
   },
   "id": "1c7880672a0ca662",
   "execution_count": 2
  },
  {
   "cell_type": "code",
   "outputs": [
    {
     "data": {
      "text/plain": "config.json:   0%|          | 0.00/7.72k [00:00<?, ?B/s]",
      "application/vnd.jupyter.widget-view+json": {
       "version_major": 2,
       "version_minor": 0,
       "model_id": "9555a066e24f43fea05287a1c9135f35"
      }
     },
     "metadata": {},
     "output_type": "display_data"
    },
    {
     "data": {
      "text/plain": "model.safetensors.index.json:   0%|          | 0.00/94.5k [00:00<?, ?B/s]",
      "application/vnd.jupyter.widget-view+json": {
       "version_major": 2,
       "version_minor": 0,
       "model_id": "5ce6b42df88c493ebb33b775a9698122"
      }
     },
     "metadata": {},
     "output_type": "display_data"
    },
    {
     "data": {
      "text/plain": "Downloading shards:   0%|          | 0/2 [00:00<?, ?it/s]",
      "application/vnd.jupyter.widget-view+json": {
       "version_major": 2,
       "version_minor": 0,
       "model_id": "4083e446f8e743fea47d2faa8f25ef5d"
      }
     },
     "metadata": {},
     "output_type": "display_data"
    },
    {
     "data": {
      "text/plain": "model-00001-of-00002.safetensors:   0%|          | 0.00/4.98G [00:00<?, ?B/s]",
      "application/vnd.jupyter.widget-view+json": {
       "version_major": 2,
       "version_minor": 0,
       "model_id": "b0e896833df94c5b808579b83118c421"
      }
     },
     "metadata": {},
     "output_type": "display_data"
    },
    {
     "data": {
      "text/plain": "model-00002-of-00002.safetensors:   0%|          | 0.00/4.35G [00:00<?, ?B/s]",
      "application/vnd.jupyter.widget-view+json": {
       "version_major": 2,
       "version_minor": 0,
       "model_id": "d357facd0f3e4137a2831b55a48ddafd"
      }
     },
     "metadata": {},
     "output_type": "display_data"
    },
    {
     "name": "stderr",
     "output_type": "stream",
     "text": [
      "/opt/homebrew/anaconda3/envs/ai-agents/lib/python3.11/site-packages/torch/nn/utils/weight_norm.py:134: FutureWarning: `torch.nn.utils.weight_norm` is deprecated in favor of `torch.nn.utils.parametrizations.weight_norm`.\n",
      "  WeightNorm.apply(module, name, dim)\n"
     ]
    },
    {
     "data": {
      "text/plain": "Loading checkpoint shards:   0%|          | 0/2 [00:00<?, ?it/s]",
      "application/vnd.jupyter.widget-view+json": {
       "version_major": 2,
       "version_minor": 0,
       "model_id": "394772c34cfe4f389e80b39043a727f5"
      }
     },
     "metadata": {},
     "output_type": "display_data"
    },
    {
     "data": {
      "text/plain": "generation_config.json:   0%|          | 0.00/241 [00:00<?, ?B/s]",
      "application/vnd.jupyter.widget-view+json": {
       "version_major": 2,
       "version_minor": 0,
       "model_id": "3a55dfa6b5474ac8aa38a7c4750b8896"
      }
     },
     "metadata": {},
     "output_type": "display_data"
    }
   ],
   "source": [
    "if torch.cuda.is_available():\n",
    "    device = torch.device(\"cuda\")\n",
    "elif torch.backends.mps.is_available():\n",
    "    device = torch.device(\"mps\")\n",
    "else:\n",
    "    device = torch.device(\"cpu\")\n",
    "model = ParlerTTSForConditionalGeneration.from_pretrained(\"parler-tts/parler-tts-large-v1\").to(device)\n",
    "tokenizer = AutoTokenizer.from_pretrained(\"parler-tts/parler-tts-large-v1\")\n",
    "model.device"
   ],
   "metadata": {
    "collapsed": false,
    "is_executing": true,
    "ExecuteTime": {
     "start_time": "2024-08-11T21:15:21.088139Z"
    }
   },
   "id": "d6cf86e7b4ad29f5",
   "execution_count": null
  },
  {
   "cell_type": "code",
   "outputs": [],
   "source": [
    "prompt = text[:2048]\n",
    "description = \"Jon's voice is monotone yet slightly fast in delivery, with a very close recording that almost has no background noise.\""
   ],
   "metadata": {
    "collapsed": false,
    "is_executing": true
   },
   "id": "b609d92310b7a0b",
   "execution_count": null
  },
  {
   "cell_type": "code",
   "outputs": [],
   "source": [
    "input_ids = tokenizer(description, return_tensors=\"pt\").input_ids.to(device)\n",
    "prompt_input_ids = tokenizer(prompt, return_tensors=\"pt\").input_ids.to(device)\n",
    "attention_mask = torch.ones_like(input_ids).to(device)"
   ],
   "metadata": {
    "collapsed": false,
    "is_executing": true
   },
   "id": "c97d38238a490933",
   "execution_count": null
  },
  {
   "cell_type": "code",
   "outputs": [],
   "source": [
    "%%time\n",
    "generation = model.generate(input_ids=input_ids, prompt_input_ids=prompt_input_ids, attention_mask=attention_mask)\n",
    "audio_arr = generation.cpu().numpy().squeeze()\n",
    "sf.write(\"parler_tts_out_large.wav\", audio_arr, model.config.sampling_rate)\n",
    "Audio(\"parler_tts_out_large.wav\")"
   ],
   "metadata": {
    "collapsed": false,
    "is_executing": true
   },
   "id": "ef6bcc2b532ed058",
   "execution_count": null
  },
  {
   "cell_type": "code",
   "outputs": [],
   "source": [],
   "metadata": {
    "collapsed": false
   },
   "id": "63cc51d7b07ea86d"
  }
 ],
 "metadata": {
  "kernelspec": {
   "display_name": "Python 3",
   "language": "python",
   "name": "python3"
  },
  "language_info": {
   "codemirror_mode": {
    "name": "ipython",
    "version": 2
   },
   "file_extension": ".py",
   "mimetype": "text/x-python",
   "name": "python",
   "nbconvert_exporter": "python",
   "pygments_lexer": "ipython2",
   "version": "2.7.6"
  }
 },
 "nbformat": 4,
 "nbformat_minor": 5
}
