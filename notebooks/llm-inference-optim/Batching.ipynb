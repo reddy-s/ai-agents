{
 "cells": [
  {
   "cell_type": "markdown",
   "source": [
    "## LLM: Batching"
   ],
   "metadata": {
    "collapsed": false
   },
   "id": "d49773ff86cc8d8d"
  },
  {
   "cell_type": "code",
   "execution_count": 1,
   "id": "initial_id",
   "metadata": {
    "collapsed": true,
    "ExecuteTime": {
     "end_time": "2024-06-30T17:48:58.121258Z",
     "start_time": "2024-06-30T17:48:57.011334Z"
    }
   },
   "outputs": [
    {
     "name": "stderr",
     "output_type": "stream",
     "text": [
      "INFO:__main__:Using MPS\n"
     ]
    },
    {
     "data": {
      "text/plain": "device(type='mps')"
     },
     "execution_count": 1,
     "metadata": {},
     "output_type": "execute_result"
    }
   ],
   "source": [
    "import torch\n",
    "import matplotlib.pyplot as plt\n",
    "import time\n",
    "import logging\n",
    "import random\n",
    "from transformers import AutoTokenizer, AutoModelForCausalLM\n",
    "from tqdm.autonotebook import tqdm\n",
    "\n",
    "\n",
    "logging.basicConfig(level=logging.INFO)\n",
    "logger = logging.getLogger(__name__)\n",
    "random.seed(42)\n",
    "\n",
    "if torch.cuda.is_available():\n",
    "    logger.info(\"Using GPU\")\n",
    "    device = torch.device(\"cuda\")\n",
    "elif torch.backends.mps.is_available():\n",
    "    logger.info(\"Using MPS\")\n",
    "    device = torch.device(\"mps\")\n",
    "else:\n",
    "    logger.info(\"Using CPU\")\n",
    "    device = torch.device(\"cpu\")\n",
    "device"
   ]
  },
  {
   "cell_type": "markdown",
   "source": [
    "## Helper functions"
   ],
   "metadata": {
    "collapsed": false
   },
   "id": "e0e123db4cc90411"
  },
  {
   "cell_type": "code",
   "outputs": [],
   "source": [
    "def generate_token(ins: dict, model) -> (torch.Tensor, torch.Tensor):\n",
    "    with torch.no_grad():\n",
    "        _output = model(**ins)\n",
    "\n",
    "    _next_token = _output.logits[:, -1, :].argmax(dim=1)\n",
    "    return _output, _next_token\n",
    "\n",
    "def chat(model, tokeniser, inputs_t0, no_of_tokens = 100):\n",
    "    generated_tokens = dict()\n",
    "    inputs_tx = inputs_t0\n",
    "    if \"position_ids\" in inputs_t0:\n",
    "        position_ids = inputs_t0[\"position_ids\"]\n",
    "    else:\n",
    "        position_ids = None\n",
    "    durations_cached_s = []\n",
    "    for _ in range(no_of_tokens):\n",
    "        t0 = time.time()\n",
    "        output, next_token_ids = generate_token(inputs_tx, model)\n",
    "        durations_cached_s.append(time.time() - t0)\n",
    "        \n",
    "        inputs_tx = {\n",
    "            \"input_ids\": next_token_ids.reshape((-1, 1)),\n",
    "            \"attention_mask\": torch.cat(\n",
    "                [inputs_tx[\"attention_mask\"], torch.ones((inputs_t0[\"input_ids\"].shape[0], 1))],\n",
    "                dim=1\n",
    "            ),\n",
    "            \"past_key_values\": output.past_key_values,\n",
    "        }\n",
    "        \n",
    "        if position_ids is not None:\n",
    "            position_ids = position_ids[:, -1].unsqueeze(-1) + 1\n",
    "            inputs_tx[\"position_ids\"] = position_ids\n",
    "            \n",
    "        \n",
    "        next_tokens = tokeniser.batch_decode(next_token_ids.reshape((inputs_t0[\"input_ids\"].shape[0], 1)))\n",
    "        for i, token in enumerate(next_tokens):\n",
    "            if i not in generated_tokens:\n",
    "                generated_tokens[i] = []\n",
    "            generated_tokens[i].append(token)\n",
    "            \n",
    "    return [\"\".join(generated_tokens[i]) for i in generated_tokens.keys()], durations_cached_s"
   ],
   "metadata": {
    "collapsed": false,
    "ExecuteTime": {
     "end_time": "2024-06-30T17:48:58.126222Z",
     "start_time": "2024-06-30T17:48:58.122326Z"
    }
   },
   "id": "ea555473d6ff257",
   "execution_count": 2
  },
  {
   "cell_type": "markdown",
   "source": [
    "## Setup"
   ],
   "metadata": {
    "collapsed": false
   },
   "id": "e1ecc145acf3e875"
  },
  {
   "cell_type": "code",
   "outputs": [
    {
     "data": {
      "text/plain": "GPT2LMHeadModel(\n  (transformer): GPT2Model(\n    (wte): Embedding(50257, 768)\n    (wpe): Embedding(1024, 768)\n    (drop): Dropout(p=0.1, inplace=False)\n    (h): ModuleList(\n      (0-11): 12 x GPT2Block(\n        (ln_1): LayerNorm((768,), eps=1e-05, elementwise_affine=True)\n        (attn): GPT2SdpaAttention(\n          (c_attn): Conv1D()\n          (c_proj): Conv1D()\n          (attn_dropout): Dropout(p=0.1, inplace=False)\n          (resid_dropout): Dropout(p=0.1, inplace=False)\n        )\n        (ln_2): LayerNorm((768,), eps=1e-05, elementwise_affine=True)\n        (mlp): GPT2MLP(\n          (c_fc): Conv1D()\n          (c_proj): Conv1D()\n          (act): NewGELUActivation()\n          (dropout): Dropout(p=0.1, inplace=False)\n        )\n      )\n    )\n    (ln_f): LayerNorm((768,), eps=1e-05, elementwise_affine=True)\n  )\n  (lm_head): Linear(in_features=768, out_features=50257, bias=False)\n)"
     },
     "execution_count": 3,
     "metadata": {},
     "output_type": "execute_result"
    }
   ],
   "source": [
    "gpt_tokeniser = AutoTokenizer.from_pretrained(\"openai-community/gpt2\", )\n",
    "gpt2 = AutoModelForCausalLM.from_pretrained(\"openai-community/gpt2\")\n",
    "\n",
    "gpt_tokeniser.pad_token = gpt_tokeniser.eos_token\n",
    "gpt2.config.pad_token_id = gpt2.config.eos_token_id\n",
    "\n",
    "# pad on the left so we can append new tokens on the right\n",
    "gpt_tokeniser.padding_side = \"left\"\n",
    "gpt_tokeniser.truncation_side = \"left\"\n",
    "\n",
    "gpt2"
   ],
   "metadata": {
    "collapsed": false,
    "ExecuteTime": {
     "end_time": "2024-06-30T17:48:59.024120Z",
     "start_time": "2024-06-30T17:48:58.126879Z"
    }
   },
   "id": "a27e0e76d92db288",
   "execution_count": 3
  },
  {
   "cell_type": "code",
   "outputs": [
    {
     "name": "stderr",
     "output_type": "stream",
     "text": [
      "INFO:__main__:Time taken to generate 20 tokens with KC Caching: 2.151087760925293 s\n"
     ]
    },
    {
     "data": {
      "text/plain": "[' my family and friends, I would like to go to the beach and see my family and friends, I would like to go to the beach and see my family and friends, I would like to go to the beach and see my family and friends, I would like to go to the beach and see my family and friends, I would like to go to the beach and see my family and friends, I would like to go to the beach and see my family and friends, I would like to go']"
     },
     "execution_count": 4,
     "metadata": {},
     "output_type": "execute_result"
    }
   ],
   "source": [
    "prompt = \"I woke up to the rain and as I looked outside the window\"\n",
    "inputs_t0 = gpt_tokeniser(prompt, return_tensors=\"pt\")\n",
    "\n",
    "n = 20\n",
    "generated_tokens, durations_cached_s = chat(gpt2, gpt_tokeniser, inputs_t0)\n",
    "logger.info(f\"Time taken to generate {n} tokens with KC Caching: {sum(durations_cached_s)} s\")\n",
    "generated_tokens"
   ],
   "metadata": {
    "collapsed": false,
    "ExecuteTime": {
     "end_time": "2024-06-30T17:49:01.198477Z",
     "start_time": "2024-06-30T17:48:59.025093Z"
    }
   },
   "id": "1c689351b176f4ff",
   "execution_count": 4
  },
  {
   "cell_type": "markdown",
   "source": [
    "## Implementing Batching"
   ],
   "metadata": {
    "collapsed": false
   },
   "id": "68c4ad385a30566"
  },
  {
   "cell_type": "code",
   "outputs": [
    {
     "data": {
      "text/plain": "{'input_ids': tensor([[ 1722,  1909,   318,   257,  3502,   290,   314,   561,   588,   284,\n           467,  3187,   257],\n        [50256, 50256, 20459, 27737,  2354,   290,   314,   892,   663,   257,\n          2818,   640,   329],\n        [50256, 50256, 50256, 50256, 20459, 43079,  2354,   290,   663,   257,\n          2089,   640,   329]]), 'attention_mask': tensor([[1, 1, 1, 1, 1, 1, 1, 1, 1, 1, 1, 1, 1],\n        [0, 0, 1, 1, 1, 1, 1, 1, 1, 1, 1, 1, 1],\n        [0, 0, 0, 0, 1, 1, 1, 1, 1, 1, 1, 1, 1]]), 'position_ids': tensor([[ 0,  1,  2,  3,  4,  5,  6,  7,  8,  9, 10, 11, 12],\n        [ 1,  1,  0,  1,  2,  3,  4,  5,  6,  7,  8,  9, 10],\n        [ 1,  1,  1,  1,  0,  1,  2,  3,  4,  5,  6,  7,  8]])}"
     },
     "execution_count": 6,
     "metadata": {},
     "output_type": "execute_result"
    }
   ],
   "source": [
    "prompts = [\n",
    "    \"I woke up to the rain and as I looked outside the window\",\n",
    "    \"Its sunny outside and I think its a perfect time for\",\n",
    "    \"Its raining outside and its a bad time for\",\n",
    "]\n",
    "# Tokenising the prompts\n",
    "inputs_t0 = gpt_tokeniser(prompts, padding=True, return_tensors=\"pt\")\n",
    "# Filling position information\n",
    "_position_ids = inputs_t0[\"attention_mask\"].long().cumsum(-1) - 1\n",
    "inputs_t0[\"position_ids\"] = _position_ids.masked_fill_(inputs_t0[\"attention_mask\"] == 0, 1)\n",
    "\n",
    "inputs_t0"
   ],
   "metadata": {
    "collapsed": false,
    "ExecuteTime": {
     "end_time": "2024-06-30T17:49:01.207394Z",
     "start_time": "2024-06-30T17:49:01.203728Z"
    }
   },
   "id": "48d24ddca590bb0a",
   "execution_count": 6
  },
  {
   "cell_type": "code",
   "outputs": [
    {
     "name": "stderr",
     "output_type": "stream",
     "text": [
      "INFO:__main__:Time taken to generate 20 tokens with KC Caching for a batch size of 3: 0.2838120460510254 s\n"
     ]
    },
    {
     "name": "stdout",
     "output_type": "stream",
     "text": [
      "As today is a Sunday and I would like to go visit a \u001B[31m friend who is a teacher. I am a teacher\u001B[0m\n",
      "\n",
      "Its sunny outside and I think its a perfect time for \u001B[31m a picnic.I'm going to be\u001B[0m\n",
      "\n",
      "Its raining outside and its a bad time for \u001B[31m the sun.The sun is shining in\u001B[0m\n"
     ]
    }
   ],
   "source": [
    "generated_tokens, durations_cached_s = chat(gpt2, gpt_tokeniser, inputs_t0, no_of_tokens=10)\n",
    "logger.info(f\"Time taken to generate {n} tokens with KC Caching for a batch size of {len(prompts)}: {sum(durations_cached_s)} s\")\n",
    "for prompt, generated in zip(prompts, generated_tokens):\n",
    "    generated = generated.replace(\"\\n\", \"\")\n",
    "    print(prompt, f\"\\x1b[31m{generated}\\x1b[0m\\n\")"
   ],
   "metadata": {
    "collapsed": false,
    "ExecuteTime": {
     "end_time": "2024-06-30T17:49:01.496988Z",
     "start_time": "2024-06-30T17:49:01.208106Z"
    }
   },
   "id": "f1851483eb46cc06",
   "execution_count": 7
  },
  {
   "cell_type": "markdown",
   "source": [
    "## Throughput vs Latency"
   ],
   "metadata": {
    "collapsed": false
   },
   "id": "686f598e62c23429"
  },
  {
   "cell_type": "code",
   "outputs": [
    {
     "name": "stderr",
     "output_type": "stream",
     "text": [
      "INFO:__main__:batch-size: 1\n",
      "INFO:__main__:duration: 0.27997326850891113\n",
      "INFO:__main__:throughput: 35.717695668798164\n",
      "INFO:__main__:avg latency: 0.027997326850891114\n",
      "INFO:__main__:batch-size: 2\n",
      "INFO:__main__:duration: 0.27405381202697754\n",
      "INFO:__main__:throughput: 72.97836819737878\n",
      "INFO:__main__:avg latency: 0.027405381202697754\n",
      "INFO:__main__:batch-size: 4\n",
      "INFO:__main__:duration: 0.2744922637939453\n",
      "INFO:__main__:throughput: 145.7235968953465\n",
      "INFO:__main__:avg latency: 0.02744922637939453\n",
      "INFO:__main__:batch-size: 8\n",
      "INFO:__main__:duration: 0.2608921527862549\n",
      "INFO:__main__:throughput: 306.6401160235081\n",
      "INFO:__main__:avg latency: 0.02608921527862549\n",
      "INFO:__main__:batch-size: 16\n",
      "INFO:__main__:duration: 0.2519679069519043\n",
      "INFO:__main__:throughput: 635.0015044993045\n",
      "INFO:__main__:avg latency: 0.02519679069519043\n",
      "INFO:__main__:batch-size: 32\n",
      "INFO:__main__:duration: 0.25730013847351074\n",
      "INFO:__main__:throughput: 1243.6837457549377\n",
      "INFO:__main__:avg latency: 0.025730013847351074\n",
      "INFO:__main__:batch-size: 64\n",
      "INFO:__main__:duration: 0.2609429359436035\n",
      "INFO:__main__:throughput: 2452.6435164288964\n",
      "INFO:__main__:avg latency: 0.02609429359436035\n",
      "INFO:__main__:batch-size: 128\n",
      "INFO:__main__:duration: 0.25977110862731934\n",
      "INFO:__main__:throughput: 4927.4147797411615\n",
      "INFO:__main__:avg latency: 0.025977110862731932\n",
      "INFO:__main__:batch-size: 256\n",
      "INFO:__main__:duration: 0.25489211082458496\n",
      "INFO:__main__:throughput: 10043.465024155945\n",
      "INFO:__main__:avg latency: 0.025489211082458496\n",
      "INFO:__main__:batch-size: 512\n",
      "INFO:__main__:duration: 0.2608499526977539\n",
      "INFO:__main__:throughput: 19628.14233642024\n",
      "INFO:__main__:avg latency: 0.02608499526977539\n",
      "INFO:__main__:batch-size: 1024\n",
      "INFO:__main__:duration: 0.25679993629455566\n",
      "INFO:__main__:throughput: 39875.399300155885\n",
      "INFO:__main__:avg latency: 0.025679993629455566\n",
      "INFO:__main__:batch-size: 2048\n",
      "INFO:__main__:duration: 0.3137671947479248\n",
      "INFO:__main__:throughput: 65271.32327027777\n",
      "INFO:__main__:avg latency: 0.03137671947479248\n",
      "INFO:__main__:batch-size: 4096\n",
      "INFO:__main__:duration: 0.3583972454071045\n",
      "INFO:__main__:throughput: 114286.59267030195\n",
      "INFO:__main__:avg latency: 0.03583972454071045\n",
      "INFO:__main__:batch-size: 8192\n",
      "INFO:__main__:duration: 0.33945703506469727\n",
      "INFO:__main__:throughput: 241326.56430109582\n",
      "INFO:__main__:avg latency: 0.03394570350646973\n",
      "INFO:__main__:batch-size: 16384\n",
      "INFO:__main__:duration: 0.45244693756103516\n",
      "INFO:__main__:throughput: 362119.8120672393\n",
      "INFO:__main__:avg latency: 0.045244693756103516\n",
      "INFO:__main__:batch-size: 32768\n",
      "INFO:__main__:duration: 0.7356626987457275\n",
      "INFO:__main__:throughput: 445421.523421916\n",
      "INFO:__main__:avg latency: 0.07356626987457275\n"
     ]
    }
   ],
   "source": [
    "max_tokens = 10\n",
    "\n",
    "# observations\n",
    "durations = []\n",
    "throughputs = []\n",
    "latencies = []\n",
    "\n",
    "batch_sizes = [2**p for p in range(16)]\n",
    "for batch_size in batch_sizes:\n",
    "    logger.info(f\"batch-size: {batch_size}\")\n",
    "\n",
    "    # generate tokens for batch and record duration\n",
    "    t0 = time.time()\n",
    "    batch_prompts = [\n",
    "        prompts[i % len(prompts)] for i in range(batch_size)\n",
    "    ]\n",
    "    inputs = gpt_tokeniser(\n",
    "        batch_prompts, padding=True, return_tensors=\"pt\"\n",
    "    )\n",
    "    generated_tokens, _ = chat(gpt2, gpt_tokeniser, inputs_t0, no_of_tokens=max_tokens)\n",
    "    duration_s = time.time() - t0\n",
    "\n",
    "    ntokens = batch_size * max_tokens\n",
    "    throughput = ntokens / duration_s\n",
    "    avg_latency = duration_s / max_tokens\n",
    "    logger.info(f\"duration: {duration_s}\")\n",
    "    logger.info(f\"throughput: {throughput}\")\n",
    "    logger.info(f\"avg latency: {avg_latency}\")    \n",
    "\n",
    "    durations.append(duration_s)\n",
    "    throughputs.append(throughput)\n",
    "    latencies.append(avg_latency)"
   ],
   "metadata": {
    "collapsed": false,
    "ExecuteTime": {
     "end_time": "2024-06-30T17:49:06.611151Z",
     "start_time": "2024-06-30T17:49:01.498042Z"
    }
   },
   "id": "12be336bc1d10fb4",
   "execution_count": 8
  },
  {
   "cell_type": "code",
   "outputs": [],
   "source": [
    "def render_plot(x, y1, y2, x_label, y1_label, y2_label):\n",
    "    # Create a figure and a set of subplots\n",
    "    fig, ax1 = plt.subplots()\n",
    "\n",
    "    # Plot the first line (throughput)\n",
    "    color = 'tab:red'\n",
    "    ax1.set_xlabel(x_label)\n",
    "    ax1.set_ylabel(y1_label, color=color)\n",
    "    ax1.plot(x, y1, color=color)\n",
    "    ax1.tick_params(axis='y', labelcolor=color)\n",
    "\n",
    "    # Set the x-axis to be log-scaled\n",
    "    ax1.set_xscale('log', base=2)\n",
    "\n",
    "    # Instantiate a second axes that shares the same x-axis\n",
    "    ax2 = ax1.twinx()  \n",
    "    color = 'tab:blue'\n",
    "    ax2.set_ylabel(y2_label, color=color)  # we already handled the x-label with ax1\n",
    "    ax2.plot(x, y2, color=color)\n",
    "    ax2.tick_params(axis='y', labelcolor=color)\n",
    "\n",
    "    plt.show()"
   ],
   "metadata": {
    "collapsed": false,
    "ExecuteTime": {
     "end_time": "2024-06-30T17:49:06.614476Z",
     "start_time": "2024-06-30T17:49:06.611764Z"
    }
   },
   "id": "3f33078b5ea4deac",
   "execution_count": 9
  },
  {
   "cell_type": "code",
   "outputs": [
    {
     "data": {
      "text/plain": "<Figure size 640x480 with 2 Axes>",
      "image/png": "[encoded data removed]"
     },
     "metadata": {},
     "output_type": "display_data"
    }
   ],
   "source": [
    "render_plot(\n",
    "    batch_sizes,\n",
    "    throughputs,\n",
    "    latencies,\n",
    "    \"Batch Size\",\n",
    "    \"Throughput\",\n",
    "    \"Latency\"\n",
    ")"
   ],
   "metadata": {
    "collapsed": false,
    "ExecuteTime": {
     "end_time": "2024-06-30T17:49:06.748695Z",
     "start_time": "2024-06-30T17:49:06.615192Z"
    }
   },
   "id": "fc766a440c874528",
   "execution_count": 10
  },
  {
   "cell_type": "markdown",
   "source": [
    "## Continuous Batching"
   ],
   "metadata": {
    "collapsed": false
   },
   "id": "2209cc6e4e122c60"
  },
  {
   "cell_type": "code",
   "outputs": [],
   "source": [
    "queue_size = 32\n",
    "batch_size = 8\n",
    "\n",
    "request_queue = [\n",
    "    (prompts[0], 100 if i % batch_size == 0 else 10)\n",
    "    for i in range(queue_size)\n",
    "]\n",
    "\n",
    "batches = [\n",
    "    request_queue[i:i + batch_size]\n",
    "    for i in range(0, len(request_queue), batch_size)\n",
    "]"
   ],
   "metadata": {
    "collapsed": false,
    "ExecuteTime": {
     "end_time": "2024-06-30T17:49:06.751671Z",
     "start_time": "2024-06-30T17:49:06.749533Z"
    }
   },
   "id": "8ec8f47f8246d027",
   "execution_count": 11
  },
  {
   "cell_type": "markdown",
   "source": [
    "#### Batching (Add and Remove prompts when finished for continuous batching)"
   ],
   "metadata": {
    "collapsed": false
   },
   "id": "96eb67e9f6f0fbd0"
  },
  {
   "cell_type": "code",
   "outputs": [
    {
     "name": "stderr",
     "output_type": "stream",
     "text": [
      "huggingface/tokenizers: The current process just got forked, after parallelism has already been used. Disabling parallelism to avoid deadlocks...\n",
      "To disable this warning, you can either:\n",
      "\t- Avoid using `tokenizers` before the fork if possible\n",
      "\t- Explicitly set the environment variable TOKENIZERS_PARALLELISM=(true | false)\n"
     ]
    },
    {
     "data": {
      "text/plain": "batch Size=8:   0%|          | 0/4 [00:00<?, ?it/s]",
      "application/vnd.jupyter.widget-view+json": {
       "version_major": 2,
       "version_minor": 0,
       "model_id": "ff151308fc5c464a8395010da3d00857"
      }
     },
     "metadata": {},
     "output_type": "display_data"
    },
    {
     "name": "stdout",
     "output_type": "stream",
     "text": [
      "duration 11.051194190979004\n"
     ]
    }
   ],
   "source": [
    "t0 = time.time()\n",
    "with tqdm(total=len(batches), desc=f\"batch Size={batch_size}\") as pbar:\n",
    "    for i, batch in enumerate(batches):\n",
    "        # to accommodate all the requests with our \n",
    "        # current implementation, we take the max of\n",
    "        # all the tokens to generate among the requests\n",
    "        batch_max_tokens = [b[1] for b in batch]\n",
    "        max_tokens = max(batch_max_tokens)\n",
    "        pbar.set_postfix({'max_tokens': max_tokens})\n",
    "        \n",
    "        batch_prompts = [b[0] for b in batch]\n",
    "        inputs = gpt_tokeniser(\n",
    "            batch_prompts, padding=True, return_tensors=\"pt\")\n",
    "        chat(gpt2, gpt_tokeniser, inputs_t0, no_of_tokens=max_tokens)\n",
    "        \n",
    "        pbar.update(1)\n",
    "\n",
    "duration_s = time.time() - t0\n",
    "print(\"duration\", duration_s)"
   ],
   "metadata": {
    "collapsed": false,
    "ExecuteTime": {
     "end_time": "2024-06-30T17:49:17.806612Z",
     "start_time": "2024-06-30T17:49:06.752511Z"
    }
   },
   "id": "8fb90383bdb60d40",
   "execution_count": 12
  }
 ],
 "metadata": {
  "kernelspec": {
   "display_name": "Python 3",
   "language": "python",
   "name": "python3"
  },
  "language_info": {
   "codemirror_mode": {
    "name": "ipython",
    "version": 2
   },
   "file_extension": ".py",
   "mimetype": "text/x-python",
   "name": "python",
   "nbconvert_exporter": "python",
   "pygments_lexer": "ipython2",
   "version": "2.7.6"
  }
 },
 "nbformat": 4,
 "nbformat_minor": 5
}
